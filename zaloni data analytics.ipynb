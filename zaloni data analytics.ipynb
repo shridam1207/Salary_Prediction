{
 "cells": [
  {
   "cell_type": "code",
   "execution_count": 95,
   "metadata": {},
   "outputs": [],
   "source": [
    "# linear algebra\n",
    "import numpy as np\n",
    " \n",
    "# data processing\n",
    "import pandas as pd\n",
    " \n",
    "# data visualization\n",
    "import matplotlib.pyplot as plt\n",
    "import seaborn as sns\n",
    " \n",
    "# Algorithms\n",
    "from sklearn import preprocessing\n",
    "from sklearn.preprocessing import LabelEncoder\n",
    "from sklearn.model_selection import train_test_split\n",
    "from sklearn import linear_model\n",
    "from sklearn.linear_model import LogisticRegression\n",
    "from sklearn.metrics import accuracy_score\n",
    "from sklearn.neighbors import KNeighborsClassifier\n",
    "from sklearn.tree import DecisionTreeClassifier\n"
   ]
  },
  {
   "cell_type": "code",
   "execution_count": 96,
   "metadata": {},
   "outputs": [],
   "source": [
    "train = pd.read_csv(\"train.csv\")\n",
    "test = pd.read_csv(\"test.csv\")"
   ]
  },
  {
   "cell_type": "code",
   "execution_count": 97,
   "metadata": {},
   "outputs": [
    {
     "name": "stdout",
     "output_type": "stream",
     "text": [
      "<class 'pandas.core.frame.DataFrame'>\n",
      "RangeIndex: 85272 entries, 0 to 85271\n",
      "Data columns (total 4 columns):\n",
      "last_name     72215 non-null object\n",
      "first_name    84899 non-null object\n",
      "gender        85272 non-null object\n",
      "race          85272 non-null object\n",
      "dtypes: object(4)\n",
      "memory usage: 2.6+ MB\n"
     ]
    }
   ],
   "source": [
    "train.info()"
   ]
  },
  {
   "cell_type": "code",
   "execution_count": 98,
   "metadata": {},
   "outputs": [],
   "source": [
    "common_value = 'S'\n",
    "data = [train,test]\n",
    "\n",
    "for dataset in data:\n",
    "    dataset['last_name'] = dataset['last_name'].fillna(common_value)\n",
    "    dataset['first_name'] = dataset['first_name'].fillna(common_value)"
   ]
  },
  {
   "cell_type": "code",
   "execution_count": 99,
   "metadata": {},
   "outputs": [
    {
     "name": "stdout",
     "output_type": "stream",
     "text": [
      "<class 'pandas.core.frame.DataFrame'>\n",
      "RangeIndex: 85272 entries, 0 to 85271\n",
      "Data columns (total 4 columns):\n",
      "last_name     85272 non-null object\n",
      "first_name    85272 non-null object\n",
      "gender        85272 non-null object\n",
      "race          85272 non-null object\n",
      "dtypes: object(4)\n",
      "memory usage: 2.6+ MB\n"
     ]
    }
   ],
   "source": [
    "train.info()"
   ]
  },
  {
   "cell_type": "code",
   "execution_count": 100,
   "metadata": {},
   "outputs": [
    {
     "name": "stdout",
     "output_type": "stream",
     "text": [
      "<class 'pandas.core.frame.DataFrame'>\n",
      "RangeIndex: 12186 entries, 0 to 12185\n",
      "Data columns (total 3 columns):\n",
      "id            12186 non-null int64\n",
      "last_name     12186 non-null object\n",
      "first_name    12186 non-null object\n",
      "dtypes: int64(1), object(2)\n",
      "memory usage: 285.7+ KB\n"
     ]
    }
   ],
   "source": [
    "test.info()"
   ]
  },
  {
   "cell_type": "code",
   "execution_count": 101,
   "metadata": {},
   "outputs": [],
   "source": [
    "data = [train,test]\n",
    "for dataset in data:\n",
    "    if dataset['first_name'].dtype == type(object):\n",
    "        le = LabelEncoder()\n",
    "        dataset['first_name'] = le.fit_transform(dataset['first_name'])"
   ]
  },
  {
   "cell_type": "code",
   "execution_count": 102,
   "metadata": {},
   "outputs": [],
   "source": [
    "data = [train,test]\n",
    "for dataset in data:\n",
    "    if dataset['last_name'].dtype == type(object):\n",
    "        le = LabelEncoder()\n",
    "        dataset['last_name'] = le.fit_transform(dataset['last_name'])"
   ]
  },
  {
   "cell_type": "code",
   "execution_count": 103,
   "metadata": {},
   "outputs": [],
   "source": [
    "data = [train,test]\n",
    "\n",
    "for dataset in data:\n",
    "    dataset['first_name'] = dataset['first_name'].astype(float)\n",
    "    dataset['last_name'] = dataset['last_name'].astype(float)"
   ]
  },
  {
   "cell_type": "code",
   "execution_count": 104,
   "metadata": {},
   "outputs": [
    {
     "name": "stdout",
     "output_type": "stream",
     "text": [
      "Data types and their frequency\n",
      "float64    2\n",
      "object     2\n",
      "dtype: int64\n",
      "Data types and their frequency\n",
      "float64    2\n",
      "int64      1\n",
      "dtype: int64\n"
     ]
    }
   ],
   "source": [
    "print(\"Data types and their frequency\\n{}\".format(train.dtypes.value_counts()))\n",
    "print(\"Data types and their frequency\\n{}\".format(test.dtypes.value_counts()))"
   ]
  },
  {
   "cell_type": "code",
   "execution_count": 105,
   "metadata": {},
   "outputs": [
    {
     "name": "stdout",
     "output_type": "stream",
     "text": [
      "gender :\n",
      "m    68296\n",
      "f    16976\n",
      "Name: gender, dtype: int64 \n",
      "\n",
      "race :\n",
      "white       34098\n",
      "black       26298\n",
      "indian      21698\n",
      "hispanic     3178\n",
      "Name: race, dtype: int64 \n",
      "\n"
     ]
    }
   ],
   "source": [
    "cols = ['gender','race']\n",
    "for name in cols:\n",
    "    print(name,':')\n",
    "    print(train[name].value_counts(),'\\n')"
   ]
  },
  {
   "cell_type": "code",
   "execution_count": 106,
   "metadata": {},
   "outputs": [
    {
     "name": "stdout",
     "output_type": "stream",
     "text": [
      "first_name :\n",
      "14551.0    377\n",
      "21789.0    373\n",
      "25084.0    313\n",
      "3467.0     262\n",
      "9439.0     261\n",
      "14554.0    256\n",
      "4718.0     230\n",
      "17125.0    229\n",
      "1138.0     198\n",
      "17177.0    185\n",
      "14577.0    180\n",
      "23711.0    180\n",
      "10612.0    175\n",
      "22751.0    155\n",
      "21309.0    153\n",
      "16953.0    150\n",
      "10987.0    149\n",
      "14583.0    146\n",
      "26622.0    137\n",
      "24776.0    134\n",
      "25086.0    131\n",
      "26057.0    131\n",
      "4340.0     130\n",
      "25275.0    129\n",
      "14562.0    127\n",
      "9467.0     126\n",
      "9446.0     123\n",
      "24220.0    122\n",
      "22032.0    120\n",
      "25176.0    116\n",
      "          ... \n",
      "20991.0      1\n",
      "24234.0      1\n",
      "12341.0      1\n",
      "4887.0       1\n",
      "5486.0       1\n",
      "19759.0      1\n",
      "19520.0      1\n",
      "805.0        1\n",
      "21184.0      1\n",
      "21581.0      1\n",
      "12266.0      1\n",
      "11473.0      1\n",
      "2567.0       1\n",
      "14936.0      1\n",
      "11079.0      1\n",
      "3268.0       1\n",
      "3788.0       1\n",
      "25369.0      1\n",
      "18187.0      1\n",
      "153.0        1\n",
      "19904.0      1\n",
      "6970.0       1\n",
      "13283.0      1\n",
      "17924.0      1\n",
      "2223.0       1\n",
      "22355.0      1\n",
      "12902.0      1\n",
      "17733.0      1\n",
      "14303.0      1\n",
      "11783.0      1\n",
      "Name: first_name, Length: 27128, dtype: int64 \n",
      "\n",
      "last_name :\n",
      "87.0       13057\n",
      "11770.0     1304\n",
      "3232.0      1158\n",
      "11788.0     1019\n",
      "12830.0      984\n",
      "5874.0       763\n",
      "11466.0      738\n",
      "6412.0       630\n",
      "18684.0      614\n",
      "10261.0      465\n",
      "730.0        347\n",
      "9589.0       346\n",
      "10034.0      317\n",
      "9347.0       310\n",
      "10617.0      309\n",
      "12385.0      287\n",
      "10759.0      284\n",
      "4715.0       280\n",
      "539.0        278\n",
      "8764.0       273\n",
      "17514.0      249\n",
      "12918.0      244\n",
      "18595.0      243\n",
      "7324.0       233\n",
      "14645.0      231\n",
      "4005.0       227\n",
      "1968.0       221\n",
      "1397.0       214\n",
      "15537.0      212\n",
      "11519.0      210\n",
      "           ...  \n",
      "18461.0        1\n",
      "12148.0        1\n",
      "8755.0         1\n",
      "16980.0        1\n",
      "12429.0        1\n",
      "13700.0        1\n",
      "18473.0        1\n",
      "11915.0        1\n",
      "14505.0        1\n",
      "818.0          1\n",
      "990.0          1\n",
      "6609.0         1\n",
      "349.0          1\n",
      "4938.0         1\n",
      "17742.0        1\n",
      "12213.0        1\n",
      "18471.0        1\n",
      "2666.0         1\n",
      "14929.0        1\n",
      "15379.0        1\n",
      "16844.0        1\n",
      "2941.0         1\n",
      "18469.0        1\n",
      "10239.0        1\n",
      "1270.0         1\n",
      "11176.0        1\n",
      "7484.0         1\n",
      "3931.0         1\n",
      "14366.0        1\n",
      "15837.0        1\n",
      "Name: last_name, Length: 19070, dtype: int64 \n",
      "\n"
     ]
    }
   ],
   "source": [
    "cols = ['first_name','last_name']\n",
    "for name in cols:\n",
    "    print(name,':')\n",
    "    print(train[name].value_counts(),'\\n')"
   ]
  },
  {
   "cell_type": "code",
   "execution_count": 107,
   "metadata": {},
   "outputs": [],
   "source": [
    "train = train[train['last_name'] > 87.0]"
   ]
  },
  {
   "cell_type": "code",
   "execution_count": 108,
   "metadata": {},
   "outputs": [
    {
     "name": "stdout",
     "output_type": "stream",
     "text": [
      "(72074, 4)\n"
     ]
    }
   ],
   "source": [
    "print(train.shape)"
   ]
  },
  {
   "cell_type": "code",
   "execution_count": 109,
   "metadata": {},
   "outputs": [
    {
     "data": {
      "text/html": [
       "<div>\n",
       "<style scoped>\n",
       "    .dataframe tbody tr th:only-of-type {\n",
       "        vertical-align: middle;\n",
       "    }\n",
       "\n",
       "    .dataframe tbody tr th {\n",
       "        vertical-align: top;\n",
       "    }\n",
       "\n",
       "    .dataframe thead th {\n",
       "        text-align: right;\n",
       "    }\n",
       "</style>\n",
       "<table border=\"1\" class=\"dataframe\">\n",
       "  <thead>\n",
       "    <tr style=\"text-align: right;\">\n",
       "      <th></th>\n",
       "      <th>last_name</th>\n",
       "      <th>first_name</th>\n",
       "      <th>gender</th>\n",
       "      <th>race</th>\n",
       "    </tr>\n",
       "  </thead>\n",
       "  <tbody>\n",
       "    <tr>\n",
       "      <th>0</th>\n",
       "      <td>11519.0</td>\n",
       "      <td>8392.0</td>\n",
       "      <td>m</td>\n",
       "      <td>black</td>\n",
       "    </tr>\n",
       "    <tr>\n",
       "      <th>1</th>\n",
       "      <td>4056.0</td>\n",
       "      <td>2485.0</td>\n",
       "      <td>m</td>\n",
       "      <td>black</td>\n",
       "    </tr>\n",
       "    <tr>\n",
       "      <th>2</th>\n",
       "      <td>13241.0</td>\n",
       "      <td>17456.0</td>\n",
       "      <td>m</td>\n",
       "      <td>black</td>\n",
       "    </tr>\n",
       "    <tr>\n",
       "      <th>3</th>\n",
       "      <td>13378.0</td>\n",
       "      <td>14479.0</td>\n",
       "      <td>m</td>\n",
       "      <td>black</td>\n",
       "    </tr>\n",
       "    <tr>\n",
       "      <th>4</th>\n",
       "      <td>4943.0</td>\n",
       "      <td>9808.0</td>\n",
       "      <td>m</td>\n",
       "      <td>hispanic</td>\n",
       "    </tr>\n",
       "    <tr>\n",
       "      <th>5</th>\n",
       "      <td>5086.0</td>\n",
       "      <td>9488.0</td>\n",
       "      <td>m</td>\n",
       "      <td>black</td>\n",
       "    </tr>\n",
       "    <tr>\n",
       "      <th>6</th>\n",
       "      <td>18684.0</td>\n",
       "      <td>24405.0</td>\n",
       "      <td>m</td>\n",
       "      <td>indian</td>\n",
       "    </tr>\n",
       "    <tr>\n",
       "      <th>7</th>\n",
       "      <td>12830.0</td>\n",
       "      <td>27008.0</td>\n",
       "      <td>m</td>\n",
       "      <td>indian</td>\n",
       "    </tr>\n",
       "    <tr>\n",
       "      <th>9</th>\n",
       "      <td>10034.0</td>\n",
       "      <td>17132.0</td>\n",
       "      <td>m</td>\n",
       "      <td>black</td>\n",
       "    </tr>\n",
       "  </tbody>\n",
       "</table>\n",
       "</div>"
      ],
      "text/plain": [
       "   last_name  first_name gender      race\n",
       "0    11519.0      8392.0      m     black\n",
       "1     4056.0      2485.0      m     black\n",
       "2    13241.0     17456.0      m     black\n",
       "3    13378.0     14479.0      m     black\n",
       "4     4943.0      9808.0      m  hispanic\n",
       "5     5086.0      9488.0      m     black\n",
       "6    18684.0     24405.0      m    indian\n",
       "7    12830.0     27008.0      m    indian\n",
       "9    10034.0     17132.0      m     black"
      ]
     },
     "execution_count": 109,
     "metadata": {},
     "output_type": "execute_result"
    }
   ],
   "source": [
    "train.head(9)"
   ]
  },
  {
   "cell_type": "code",
   "execution_count": 111,
   "metadata": {},
   "outputs": [
    {
     "name": "stdout",
     "output_type": "stream",
     "text": [
      "first_name :\n",
      "5803.0    59\n",
      "3924.0    38\n",
      "6604.0    38\n",
      "953.0     25\n",
      "1343.0    25\n",
      "5658.0    25\n",
      "6672.0    24\n",
      "2526.0    24\n",
      "6356.0    22\n",
      "6474.0    22\n",
      "3925.0    22\n",
      "6660.0    21\n",
      "6687.0    21\n",
      "2505.0    20\n",
      "6269.0    20\n",
      "7006.0    20\n",
      "284.0     20\n",
      "1363.0    20\n",
      "4496.0    19\n",
      "2888.0    19\n",
      "3928.0    19\n",
      "6390.0    18\n",
      "3935.0    18\n",
      "3782.0    18\n",
      "4564.0    18\n",
      "6979.0    18\n",
      "3946.0    17\n",
      "4565.0    17\n",
      "2498.0    17\n",
      "6606.0    17\n",
      "          ..\n",
      "3239.0     1\n",
      "6770.0     1\n",
      "5814.0     1\n",
      "3207.0     1\n",
      "4980.0     1\n",
      "1135.0     1\n",
      "6807.0     1\n",
      "1561.0     1\n",
      "469.0      1\n",
      "3383.0     1\n",
      "1994.0     1\n",
      "7049.0     1\n",
      "4247.0     1\n",
      "6605.0     1\n",
      "1725.0     1\n",
      "906.0      1\n",
      "2484.0     1\n",
      "843.0      1\n",
      "1163.0     1\n",
      "5712.0     1\n",
      "4792.0     1\n",
      "271.0      1\n",
      "4368.0     1\n",
      "4808.0     1\n",
      "319.0      1\n",
      "4788.0     1\n",
      "477.0      1\n",
      "5144.0     1\n",
      "782.0      1\n",
      "5405.0     1\n",
      "Name: first_name, Length: 7135, dtype: int64 \n",
      "\n",
      "last_name :\n",
      "17.0      1622\n",
      "2246.0     411\n",
      "385.0      183\n",
      "2150.0     179\n",
      "2237.0     147\n",
      "2669.0     131\n",
      "2060.0     113\n",
      "1556.0     107\n",
      "3589.0     106\n",
      "1731.0      96\n",
      "2618.0      88\n",
      "1504.0      88\n",
      "1516.0      82\n",
      "177.0       81\n",
      "3600.0      73\n",
      "1386.0      73\n",
      "1582.0      71\n",
      "2220.0      57\n",
      "3521.0      53\n",
      "2979.0      52\n",
      "3029.0      52\n",
      "2124.0      51\n",
      "1779.0      49\n",
      "1703.0      49\n",
      "2084.0      48\n",
      "1005.0      47\n",
      "2194.0      46\n",
      "3033.0      45\n",
      "2287.0      44\n",
      "2067.0      42\n",
      "          ... \n",
      "445.0        1\n",
      "828.0        1\n",
      "2192.0       1\n",
      "287.0        1\n",
      "1576.0       1\n",
      "3469.0       1\n",
      "2271.0       1\n",
      "3723.0       1\n",
      "1218.0       1\n",
      "2545.0       1\n",
      "550.0        1\n",
      "2856.0       1\n",
      "3576.0       1\n",
      "994.0        1\n",
      "533.0        1\n",
      "267.0        1\n",
      "751.0        1\n",
      "878.0        1\n",
      "2714.0       1\n",
      "1777.0       1\n",
      "1526.0       1\n",
      "734.0        1\n",
      "2963.0       1\n",
      "2117.0       1\n",
      "2303.0       1\n",
      "1561.0       1\n",
      "2134.0       1\n",
      "2037.0       1\n",
      "2830.0       1\n",
      "2299.0       1\n",
      "Name: last_name, Length: 3748, dtype: int64 \n",
      "\n"
     ]
    }
   ],
   "source": [
    "cols = ['first_name','last_name']\n",
    "for name in cols:\n",
    "    print(name,':')\n",
    "    print(test[name].value_counts(),'\\n')"
   ]
  },
  {
   "cell_type": "code",
   "execution_count": 112,
   "metadata": {},
   "outputs": [
    {
     "data": {
      "text/html": [
       "<div>\n",
       "<style scoped>\n",
       "    .dataframe tbody tr th:only-of-type {\n",
       "        vertical-align: middle;\n",
       "    }\n",
       "\n",
       "    .dataframe tbody tr th {\n",
       "        vertical-align: top;\n",
       "    }\n",
       "\n",
       "    .dataframe thead th {\n",
       "        text-align: right;\n",
       "    }\n",
       "</style>\n",
       "<table border=\"1\" class=\"dataframe\">\n",
       "  <thead>\n",
       "    <tr style=\"text-align: right;\">\n",
       "      <th></th>\n",
       "      <th>id</th>\n",
       "      <th>last_name</th>\n",
       "      <th>first_name</th>\n",
       "    </tr>\n",
       "  </thead>\n",
       "  <tbody>\n",
       "    <tr>\n",
       "      <th>0</th>\n",
       "      <td>1</td>\n",
       "      <td>177.0</td>\n",
       "      <td>5873.0</td>\n",
       "    </tr>\n",
       "    <tr>\n",
       "      <th>1</th>\n",
       "      <td>2</td>\n",
       "      <td>3197.0</td>\n",
       "      <td>3901.0</td>\n",
       "    </tr>\n",
       "    <tr>\n",
       "      <th>2</th>\n",
       "      <td>3</td>\n",
       "      <td>2539.0</td>\n",
       "      <td>3941.0</td>\n",
       "    </tr>\n",
       "    <tr>\n",
       "      <th>3</th>\n",
       "      <td>4</td>\n",
       "      <td>1415.0</td>\n",
       "      <td>4816.0</td>\n",
       "    </tr>\n",
       "    <tr>\n",
       "      <th>4</th>\n",
       "      <td>5</td>\n",
       "      <td>3247.0</td>\n",
       "      <td>2593.0</td>\n",
       "    </tr>\n",
       "  </tbody>\n",
       "</table>\n",
       "</div>"
      ],
      "text/plain": [
       "   id  last_name  first_name\n",
       "0   1      177.0      5873.0\n",
       "1   2     3197.0      3901.0\n",
       "2   3     2539.0      3941.0\n",
       "3   4     1415.0      4816.0\n",
       "4   5     3247.0      2593.0"
      ]
     },
     "execution_count": 112,
     "metadata": {},
     "output_type": "execute_result"
    }
   ],
   "source": [
    "test.head()"
   ]
  },
  {
   "cell_type": "code",
   "execution_count": 113,
   "metadata": {},
   "outputs": [],
   "source": [
    "train_Y = train.gender\n",
    "train_predictor_columns = ['last_name', 'first_name']\n",
    "train_X = train[train_predictor_columns]\n",
    "test_X = test[train_predictor_columns]"
   ]
  },
  {
   "cell_type": "code",
   "execution_count": 114,
   "metadata": {},
   "outputs": [
    {
     "name": "stderr",
     "output_type": "stream",
     "text": [
      "C:\\Users\\Shridam\\Anaconda3\\lib\\site-packages\\sklearn\\linear_model\\logistic.py:433: FutureWarning: Default solver will be changed to 'lbfgs' in 0.22. Specify a solver to silence this warning.\n",
      "  FutureWarning)\n"
     ]
    },
    {
     "name": "stdout",
     "output_type": "stream",
     "text": [
      "87.92\n"
     ]
    }
   ],
   "source": [
    "logreg = LogisticRegression()\n",
    "logreg.fit(train_X,train_Y)\n",
    "\n",
    "Y_pred_gender = logreg.predict(test_X)\n",
    "\n",
    "acc_log = round(logreg.score(train_X, train_Y) * 100, 2)\n",
    "print (acc_log)"
   ]
  },
  {
   "cell_type": "code",
   "execution_count": 115,
   "metadata": {},
   "outputs": [],
   "source": [
    "train_Y1 = train.race\n",
    "train_predictor_columns = ['last_name', 'first_name']\n",
    "train_X = train[train_predictor_columns]\n",
    "test_X = test[train_predictor_columns]"
   ]
  },
  {
   "cell_type": "code",
   "execution_count": 116,
   "metadata": {},
   "outputs": [
    {
     "name": "stderr",
     "output_type": "stream",
     "text": [
      "C:\\Users\\Shridam\\Anaconda3\\lib\\site-packages\\sklearn\\linear_model\\logistic.py:433: FutureWarning: Default solver will be changed to 'lbfgs' in 0.22. Specify a solver to silence this warning.\n",
      "  FutureWarning)\n",
      "C:\\Users\\Shridam\\Anaconda3\\lib\\site-packages\\sklearn\\linear_model\\logistic.py:460: FutureWarning: Default multi_class will be changed to 'auto' in 0.22. Specify the multi_class option to silence this warning.\n",
      "  \"this warning.\", FutureWarning)\n"
     ]
    },
    {
     "name": "stdout",
     "output_type": "stream",
     "text": [
      "58.16\n"
     ]
    }
   ],
   "source": [
    "logreg = LogisticRegression()\n",
    "logreg.fit(train_X,train_Y1)\n",
    "\n",
    "Y_pred_race = logreg.predict(test_X)\n",
    "\n",
    "acc_log = round(logreg.score(train_X, train_Y1) * 100, 2)\n",
    "print (acc_log)"
   ]
  },
  {
   "cell_type": "code",
   "execution_count": 51,
   "metadata": {},
   "outputs": [],
   "source": [
    "predictions1 = Y_pred_gender \n",
    "predictions2 = Y_pred_race\n"
   ]
  },
  {
   "cell_type": "code",
   "execution_count": 66,
   "metadata": {},
   "outputs": [
    {
     "data": {
      "text/html": [
       "<div>\n",
       "<style scoped>\n",
       "    .dataframe tbody tr th:only-of-type {\n",
       "        vertical-align: middle;\n",
       "    }\n",
       "\n",
       "    .dataframe tbody tr th {\n",
       "        vertical-align: top;\n",
       "    }\n",
       "\n",
       "    .dataframe thead th {\n",
       "        text-align: right;\n",
       "    }\n",
       "</style>\n",
       "<table border=\"1\" class=\"dataframe\">\n",
       "  <thead>\n",
       "    <tr style=\"text-align: right;\">\n",
       "      <th></th>\n",
       "      <th>id</th>\n",
       "      <th>gender</th>\n",
       "      <th>race</th>\n",
       "    </tr>\n",
       "  </thead>\n",
       "  <tbody>\n",
       "    <tr>\n",
       "      <th>0</th>\n",
       "      <td>1</td>\n",
       "      <td>m</td>\n",
       "      <td>black</td>\n",
       "    </tr>\n",
       "    <tr>\n",
       "      <th>1</th>\n",
       "      <td>2</td>\n",
       "      <td>m</td>\n",
       "      <td>white</td>\n",
       "    </tr>\n",
       "    <tr>\n",
       "      <th>2</th>\n",
       "      <td>3</td>\n",
       "      <td>m</td>\n",
       "      <td>white</td>\n",
       "    </tr>\n",
       "    <tr>\n",
       "      <th>3</th>\n",
       "      <td>4</td>\n",
       "      <td>m</td>\n",
       "      <td>white</td>\n",
       "    </tr>\n",
       "    <tr>\n",
       "      <th>4</th>\n",
       "      <td>5</td>\n",
       "      <td>m</td>\n",
       "      <td>white</td>\n",
       "    </tr>\n",
       "  </tbody>\n",
       "</table>\n",
       "</div>"
      ],
      "text/plain": [
       "   id gender   race\n",
       "0   1      m  black\n",
       "1   2      m  white\n",
       "2   3      m  white\n",
       "3   4      m  white\n",
       "4   5      m  white"
      ]
     },
     "execution_count": 66,
     "metadata": {},
     "output_type": "execute_result"
    }
   ],
   "source": [
    "submission = pd.DataFrame({'id':test['id'], 'gender':predictions1, 'race':predictions2})\n",
    "submission.head()"
   ]
  },
  {
   "cell_type": "code",
   "execution_count": 54,
   "metadata": {},
   "outputs": [
    {
     "name": "stdout",
     "output_type": "stream",
     "text": [
      "saved file: log_reg_techniche.csv\n"
     ]
    }
   ],
   "source": [
    "filename = 'log_reg_techniche.csv'\n",
    "submission.to_csv(filename, index = False)\n",
    "print('saved file: ' + filename)"
   ]
  },
  {
   "cell_type": "code",
   "execution_count": 55,
   "metadata": {},
   "outputs": [
    {
     "name": "stdout",
     "output_type": "stream",
     "text": [
      "99.6\n"
     ]
    }
   ],
   "source": [
    "decision_tree = DecisionTreeClassifier() \n",
    "decision_tree.fit(train_X, train_Y)  \n",
    "Y_pred_gender = decision_tree.predict(test_X)  \n",
    "acc_decision_tree = round(decision_tree.score(train_X, train_Y) * 100, 2)\n",
    "print(acc_decision_tree)"
   ]
  },
  {
   "cell_type": "code",
   "execution_count": 56,
   "metadata": {},
   "outputs": [
    {
     "name": "stdout",
     "output_type": "stream",
     "text": [
      "99.44\n"
     ]
    }
   ],
   "source": [
    "decision_tree = DecisionTreeClassifier() \n",
    "decision_tree.fit(train_X, train_Y1)  \n",
    "Y_pred_race = decision_tree.predict(test_X)  \n",
    "acc_decision_tree = round(decision_tree.score(train_X, train_Y1) * 100, 2)\n",
    "print(acc_decision_tree)"
   ]
  },
  {
   "cell_type": "code",
   "execution_count": 57,
   "metadata": {},
   "outputs": [],
   "source": [
    "predictions3 = Y_pred_gender \n",
    "predictions4 = Y_pred_race"
   ]
  },
  {
   "cell_type": "code",
   "execution_count": 58,
   "metadata": {},
   "outputs": [
    {
     "data": {
      "text/html": [
       "<div>\n",
       "<style scoped>\n",
       "    .dataframe tbody tr th:only-of-type {\n",
       "        vertical-align: middle;\n",
       "    }\n",
       "\n",
       "    .dataframe tbody tr th {\n",
       "        vertical-align: top;\n",
       "    }\n",
       "\n",
       "    .dataframe thead th {\n",
       "        text-align: right;\n",
       "    }\n",
       "</style>\n",
       "<table border=\"1\" class=\"dataframe\">\n",
       "  <thead>\n",
       "    <tr style=\"text-align: right;\">\n",
       "      <th></th>\n",
       "      <th>id</th>\n",
       "      <th>gender</th>\n",
       "      <th>race</th>\n",
       "    </tr>\n",
       "  </thead>\n",
       "  <tbody>\n",
       "    <tr>\n",
       "      <th>0</th>\n",
       "      <td>1</td>\n",
       "      <td>m</td>\n",
       "      <td>black</td>\n",
       "    </tr>\n",
       "    <tr>\n",
       "      <th>1</th>\n",
       "      <td>2</td>\n",
       "      <td>m</td>\n",
       "      <td>black</td>\n",
       "    </tr>\n",
       "    <tr>\n",
       "      <th>2</th>\n",
       "      <td>3</td>\n",
       "      <td>m</td>\n",
       "      <td>white</td>\n",
       "    </tr>\n",
       "    <tr>\n",
       "      <th>3</th>\n",
       "      <td>4</td>\n",
       "      <td>f</td>\n",
       "      <td>white</td>\n",
       "    </tr>\n",
       "    <tr>\n",
       "      <th>4</th>\n",
       "      <td>5</td>\n",
       "      <td>m</td>\n",
       "      <td>black</td>\n",
       "    </tr>\n",
       "  </tbody>\n",
       "</table>\n",
       "</div>"
      ],
      "text/plain": [
       "   id gender   race\n",
       "0   1      m  black\n",
       "1   2      m  black\n",
       "2   3      m  white\n",
       "3   4      f  white\n",
       "4   5      m  black"
      ]
     },
     "execution_count": 58,
     "metadata": {},
     "output_type": "execute_result"
    }
   ],
   "source": [
    "submission = pd.DataFrame({'id':test['id'], 'gender':predictions3, 'race':predictions4})\n",
    "submission.head()"
   ]
  },
  {
   "cell_type": "code",
   "execution_count": 59,
   "metadata": {},
   "outputs": [
    {
     "name": "stdout",
     "output_type": "stream",
     "text": [
      "saved file: decisiontrees_techniche.csv\n"
     ]
    }
   ],
   "source": [
    "filename = 'decisiontrees_techniche.csv'\n",
    "submission.to_csv(filename, index = False)\n",
    "print('saved file: ' + filename)"
   ]
  },
  {
   "cell_type": "code",
   "execution_count": 82,
   "metadata": {},
   "outputs": [
    {
     "name": "stdout",
     "output_type": "stream",
     "text": [
      "93.41\n"
     ]
    }
   ],
   "source": [
    "# KNN\n",
    "knn = KNeighborsClassifier(n_neighbors = 3)\n",
    "knn.fit(train_X, train_Y)  \n",
    "Y_pred_gender = knn.predict(test_X) \n",
    "acc_knn = round(knn.score(train_X, train_Y) * 100, 2)\n",
    "print (acc_knn)"
   ]
  },
  {
   "cell_type": "code",
   "execution_count": 81,
   "metadata": {},
   "outputs": [
    {
     "name": "stdout",
     "output_type": "stream",
     "text": [
      "85.38\n"
     ]
    }
   ],
   "source": [
    "# KNN\n",
    "knn = KNeighborsClassifier(n_neighbors = 3)\n",
    "knn.fit(train_X, train_Y1)  \n",
    "Y_pred_race = knn.predict(test_X) \n",
    "acc_knn = round(knn.score(train_X, train_Y1) * 100, 2)\n",
    "print (acc_knn)"
   ]
  },
  {
   "cell_type": "code",
   "execution_count": 70,
   "metadata": {},
   "outputs": [],
   "source": [
    "predictions5 = Y_pred_gender \n",
    "predictions6 = Y_pred_race"
   ]
  },
  {
   "cell_type": "code",
   "execution_count": 72,
   "metadata": {},
   "outputs": [
    {
     "data": {
      "text/html": [
       "<div>\n",
       "<style scoped>\n",
       "    .dataframe tbody tr th:only-of-type {\n",
       "        vertical-align: middle;\n",
       "    }\n",
       "\n",
       "    .dataframe tbody tr th {\n",
       "        vertical-align: top;\n",
       "    }\n",
       "\n",
       "    .dataframe thead th {\n",
       "        text-align: right;\n",
       "    }\n",
       "</style>\n",
       "<table border=\"1\" class=\"dataframe\">\n",
       "  <thead>\n",
       "    <tr style=\"text-align: right;\">\n",
       "      <th></th>\n",
       "      <th>id</th>\n",
       "      <th>gender</th>\n",
       "      <th>race</th>\n",
       "    </tr>\n",
       "  </thead>\n",
       "  <tbody>\n",
       "    <tr>\n",
       "      <th>0</th>\n",
       "      <td>1</td>\n",
       "      <td>m</td>\n",
       "      <td>black</td>\n",
       "    </tr>\n",
       "    <tr>\n",
       "      <th>1</th>\n",
       "      <td>2</td>\n",
       "      <td>m</td>\n",
       "      <td>black</td>\n",
       "    </tr>\n",
       "    <tr>\n",
       "      <th>2</th>\n",
       "      <td>3</td>\n",
       "      <td>m</td>\n",
       "      <td>black</td>\n",
       "    </tr>\n",
       "    <tr>\n",
       "      <th>3</th>\n",
       "      <td>4</td>\n",
       "      <td>m</td>\n",
       "      <td>white</td>\n",
       "    </tr>\n",
       "    <tr>\n",
       "      <th>4</th>\n",
       "      <td>5</td>\n",
       "      <td>m</td>\n",
       "      <td>black</td>\n",
       "    </tr>\n",
       "  </tbody>\n",
       "</table>\n",
       "</div>"
      ],
      "text/plain": [
       "   id gender   race\n",
       "0   1      m  black\n",
       "1   2      m  black\n",
       "2   3      m  black\n",
       "3   4      m  white\n",
       "4   5      m  black"
      ]
     },
     "execution_count": 72,
     "metadata": {},
     "output_type": "execute_result"
    }
   ],
   "source": [
    "submission = pd.DataFrame({'id':test['id'], 'gender':predictions5, 'race':predictions6})\n",
    "submission.head()"
   ]
  },
  {
   "cell_type": "code",
   "execution_count": 73,
   "metadata": {},
   "outputs": [
    {
     "name": "stdout",
     "output_type": "stream",
     "text": [
      "saved file: knn3_techniche.csv\n"
     ]
    }
   ],
   "source": [
    "filename = 'knn3_techniche.csv'\n",
    "submission.to_csv(filename, index = False)\n",
    "print('saved file: ' + filename)"
   ]
  },
  {
   "cell_type": "code",
   "execution_count": 74,
   "metadata": {},
   "outputs": [
    {
     "name": "stdout",
     "output_type": "stream",
     "text": [
      "99.48\n"
     ]
    }
   ],
   "source": [
    "# KNN\n",
    "knn = KNeighborsClassifier(n_neighbors = 1)\n",
    "knn.fit(train_X, train_Y)  \n",
    "Y_pred_gender = knn.predict(test_X) \n",
    "acc_knn = round(knn.score(train_X, train_Y) * 100, 2)\n",
    "print (acc_knn)"
   ]
  },
  {
   "cell_type": "code",
   "execution_count": 75,
   "metadata": {},
   "outputs": [
    {
     "name": "stdout",
     "output_type": "stream",
     "text": [
      "99.39\n"
     ]
    }
   ],
   "source": [
    "# KNN\n",
    "knn = KNeighborsClassifier(n_neighbors = 1)\n",
    "knn.fit(train_X, train_Y1)  \n",
    "Y_pred_race = knn.predict(test_X) \n",
    "acc_knn = round(knn.score(train_X, train_Y1) * 100, 2)\n",
    "print (acc_knn)"
   ]
  },
  {
   "cell_type": "code",
   "execution_count": 76,
   "metadata": {},
   "outputs": [],
   "source": [
    "predictions7 = Y_pred_gender \n",
    "predictions8 = Y_pred_race"
   ]
  },
  {
   "cell_type": "code",
   "execution_count": 77,
   "metadata": {},
   "outputs": [
    {
     "data": {
      "text/html": [
       "<div>\n",
       "<style scoped>\n",
       "    .dataframe tbody tr th:only-of-type {\n",
       "        vertical-align: middle;\n",
       "    }\n",
       "\n",
       "    .dataframe tbody tr th {\n",
       "        vertical-align: top;\n",
       "    }\n",
       "\n",
       "    .dataframe thead th {\n",
       "        text-align: right;\n",
       "    }\n",
       "</style>\n",
       "<table border=\"1\" class=\"dataframe\">\n",
       "  <thead>\n",
       "    <tr style=\"text-align: right;\">\n",
       "      <th></th>\n",
       "      <th>id</th>\n",
       "      <th>gender</th>\n",
       "      <th>race</th>\n",
       "    </tr>\n",
       "  </thead>\n",
       "  <tbody>\n",
       "    <tr>\n",
       "      <th>0</th>\n",
       "      <td>1</td>\n",
       "      <td>m</td>\n",
       "      <td>black</td>\n",
       "    </tr>\n",
       "    <tr>\n",
       "      <th>1</th>\n",
       "      <td>2</td>\n",
       "      <td>m</td>\n",
       "      <td>black</td>\n",
       "    </tr>\n",
       "    <tr>\n",
       "      <th>2</th>\n",
       "      <td>3</td>\n",
       "      <td>m</td>\n",
       "      <td>black</td>\n",
       "    </tr>\n",
       "    <tr>\n",
       "      <th>3</th>\n",
       "      <td>4</td>\n",
       "      <td>m</td>\n",
       "      <td>black</td>\n",
       "    </tr>\n",
       "    <tr>\n",
       "      <th>4</th>\n",
       "      <td>5</td>\n",
       "      <td>m</td>\n",
       "      <td>black</td>\n",
       "    </tr>\n",
       "  </tbody>\n",
       "</table>\n",
       "</div>"
      ],
      "text/plain": [
       "   id gender   race\n",
       "0   1      m  black\n",
       "1   2      m  black\n",
       "2   3      m  black\n",
       "3   4      m  black\n",
       "4   5      m  black"
      ]
     },
     "execution_count": 77,
     "metadata": {},
     "output_type": "execute_result"
    }
   ],
   "source": [
    "submission = pd.DataFrame({'id':test['id'], 'gender':predictions7, 'race':predictions8})\n",
    "submission.head()"
   ]
  },
  {
   "cell_type": "code",
   "execution_count": 78,
   "metadata": {},
   "outputs": [
    {
     "name": "stdout",
     "output_type": "stream",
     "text": [
      "saved file: knn1_techniche.csv\n"
     ]
    }
   ],
   "source": [
    "filename = 'knn1_techniche.csv'\n",
    "submission.to_csv(filename, index = False)\n",
    "print('saved file: ' + filename)"
   ]
  },
  {
   "cell_type": "code",
   "execution_count": null,
   "metadata": {},
   "outputs": [],
   "source": []
  }
 ],
 "metadata": {
  "kernelspec": {
   "display_name": "Python 3",
   "language": "python",
   "name": "python3"
  },
  "language_info": {
   "codemirror_mode": {
    "name": "ipython",
    "version": 3
   },
   "file_extension": ".py",
   "mimetype": "text/x-python",
   "name": "python",
   "nbconvert_exporter": "python",
   "pygments_lexer": "ipython3",
   "version": "3.7.4"
  }
 },
 "nbformat": 4,
 "nbformat_minor": 2
}
